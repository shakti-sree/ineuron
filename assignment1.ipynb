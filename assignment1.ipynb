{
 "cells": [
  {
   "cell_type": "code",
   "execution_count": 3,
   "metadata": {},
   "outputs": [
    {
     "name": "stdout",
     "output_type": "stream",
     "text": [
      "2030,2065,2100,2135,2170,2205,2240,2275,2310,2345,2380,2415,2450,2485,2520,2555,2590,2625,2660,2695,2730,2765,2800,2835,2870,2905,2940,2975,3010,3045,3080,3115,3150,3185\n",
      "Input your First Name : Sneha\n",
      "Input your Last Name :latha\n",
      "latha Sneha\n",
      "905.1428571428571\n"
     ]
    }
   ],
   "source": [
    "#Question 1\n",
    "num_list = []\n",
    "\n",
    "for i in range(2000,3200):\n",
    "    if int(i)%7==0 and i%5==0:\n",
    "        num_list.append(str(i))\n",
    "\n",
    "print(','.join(num_list))\n",
    "#question 2\n",
    "firstname = input(\"Input your First Name : \")\n",
    "lastname = input(\"Input your Last Name :\")\n",
    "print(lastname+ \" \"+ firstname)\n",
    "\n",
    "#Question 3\n",
    "pi=22/7\n",
    "radius = 6\n",
    "volume = (4/3) * (pi * radius ** 3)\n",
    "print(volume)\n",
    "\n"
   ]
  },
  {
   "cell_type": "code",
   "execution_count": null,
   "metadata": {},
   "outputs": [],
   "source": []
  }
 ],
 "metadata": {
  "kernelspec": {
   "display_name": "Python 3",
   "language": "python",
   "name": "python3"
  },
  "language_info": {
   "codemirror_mode": {
    "name": "ipython",
    "version": 3
   },
   "file_extension": ".py",
   "mimetype": "text/x-python",
   "name": "python",
   "nbconvert_exporter": "python",
   "pygments_lexer": "ipython3",
   "version": "3.7.3"
  }
 },
 "nbformat": 4,
 "nbformat_minor": 2
}
